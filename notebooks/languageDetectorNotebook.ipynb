{
 "cells": [
  {
   "cell_type": "markdown",
   "metadata": {},
   "source": [
    "# Librarys"
   ]
  },
  {
   "cell_type": "code",
   "execution_count": 1,
   "metadata": {},
   "outputs": [],
   "source": [
    "# Importing all the libraries that will be used \n",
    "\n",
    "import pandas as pd \n",
    "import re\n",
    "import numpy as np\n",
    "\n",
    "from sklearn.model_selection import train_test_split\n",
    "\n",
    "from nltk.lm import Laplace\n",
    "from nltk.lm.preprocessing import padded_everygram_pipeline\n",
    "from nltk.tokenize import WhitespaceTokenizer\n",
    "from nltk.util import bigrams\n",
    "from nltk.lm.preprocessing import pad_both_ends\n",
    "\n",
    "# Regex's \n",
    "regex_html_01_codes = re.compile(r'<code>(.|\\n)*?</code>')\n",
    "regex_html_02_tags = re.compile(r'<.*?>')\n",
    "regex_html_03_punctuation = re.compile(r'[^\\w\\s]')\n",
    "regex_html_04_numbers = re.compile(r'^\\d+')\n",
    "regex_html_05_linebrokentag = re.compile(r'\\n')\n",
    "regex_html_06_whitespace = re.compile(r' +')\n",
    "\n",
    "# Random State\n",
    "SEED = 59\n",
    "np.random.seed(SEED)\n",
    "\n",
    "# Modelos\n",
    "\n",
    "#WhitespaceTokenizer = WhitespaceTokenizer()"
   ]
  },
  {
   "cell_type": "markdown",
   "metadata": {},
   "source": [
    "# Dataframes"
   ]
  },
  {
   "cell_type": "code",
   "execution_count": 2,
   "metadata": {},
   "outputs": [],
   "source": [
    "# Importing the dataframes to be used\n",
    "\n",
    "df_pt = pd.read_csv('./datasets/stackoverflow_portuguese.csv')\n",
    "df_en = pd.read_csv('./datasets/stackoverflow_english.csv')\n",
    "\n",
    "# Changing the data in our dataframe\n",
    "\n",
    "df_pt['Idioma'] = 'port'\n",
    "df_en['Idioma'] = 'eng'"
   ]
  },
  {
   "cell_type": "markdown",
   "metadata": {},
   "source": [
    "# Regex's"
   ]
  },
  {
   "cell_type": "code",
   "execution_count": 3,
   "metadata": {},
   "outputs": [],
   "source": [
    "# Handling dataframe values\n",
    "\n",
    "def def_values_tratment(data, column):\n",
    "\n",
    "    new_senteces = []   \n",
    "\n",
    "    for c in data[column]:\n",
    "        sentence_string = c\n",
    "        sentence_string = regex_html_01_codes.sub(' ', sentence_string)\n",
    "        sentence_string = regex_html_02_tags.sub(' ', sentence_string)\n",
    "        sentence_string = regex_html_03_punctuation.sub(' ', sentence_string)\n",
    "        sentence_string = regex_html_04_numbers.sub(' ', sentence_string)\n",
    "        sentence_string = regex_html_05_linebrokentag.sub('', sentence_string)\n",
    "        sentence_string = regex_html_06_whitespace.sub(' ', sentence_string)\n",
    "        sentence_string = sentence_string.lower()\n",
    "        new_senteces.append(sentence_string)\n",
    "\n",
    "    data[column + '_Tratamento'] = new_senteces    \n",
    "\n",
    "def_values_tratment(df_pt, 'Questão')\n",
    "def_values_tratment(df_en, 'Questão')"
   ]
  },
  {
   "cell_type": "markdown",
   "metadata": {},
   "source": [
    "# Models"
   ]
  },
  {
   "cell_type": "code",
   "execution_count": 4,
   "metadata": {},
   "outputs": [],
   "source": [
    "# Creating the MLE template for Portuguese and English\n",
    "\n",
    "def def_modelo_mle_pt_split(x):\n",
    "    global test_pt, train_pt\n",
    "\n",
    "    train_pt, test_pt = train_test_split(x, test_size = 0.2)\n",
    "\n",
    "    train_all_senteces = ' '.join(train_pt)\n",
    "    train_all_words = WhitespaceTokenizer().tokenize(train_all_senteces)\n",
    "    train_bigram, vocabulary_bigramns = padded_everygram_pipeline(2, train_all_words)\n",
    "\n",
    "    modelo = Laplace(2)\n",
    "    modelo.fit(train_bigram, vocabulary_bigramns)\n",
    "    \n",
    "    return modelo\n",
    "\n",
    "def def_modelo_mle_en_split(x):\n",
    "    global test_en, train_en\n",
    "\n",
    "    train_en, test_en = train_test_split(x, test_size = 0.2)\n",
    "\n",
    "    train_all_senteces = ' '.join(train_en)\n",
    "    train_all_words = WhitespaceTokenizer().tokenize(train_all_senteces)\n",
    "    \n",
    "    train_bigram, vocabulary_bigramns = padded_everygram_pipeline(2, train_all_words)\n",
    "\n",
    "    modelo = Laplace(2)\n",
    "    modelo.fit(train_bigram, vocabulary_bigramns)\n",
    "\n",
    "    return modelo\n",
    "\n",
    "model_laplace_pt = def_modelo_mle_pt_split(df_pt.Questão_Tratamento)\n",
    "model_laplace_en = def_modelo_mle_en_split(df_en.Questão_Tratamento)"
   ]
  },
  {
   "cell_type": "markdown",
   "metadata": {},
   "source": [
    "# Perplexity"
   ]
  },
  {
   "cell_type": "code",
   "execution_count": 5,
   "metadata": {},
   "outputs": [],
   "source": [
    "# Measuring the perplexity of each word of a given date\n",
    "\n",
    "def perplexity_counter(model, data):\n",
    "    global words, fake_char, words_bigrams\n",
    "\n",
    "    perplexities = 0\n",
    "    words = WhitespaceTokenizer().tokenize(data)\n",
    "    fake_char = [list(pad_both_ends(c, n = 2)) for c in words]\n",
    "    words_bigrams = [list(bigrams(k)) for k in fake_char]\n",
    "    for word in words_bigrams:\n",
    "        perplexities = model.perplexity(word) + perplexities\n",
    "    \n",
    "    return perplexities"
   ]
  },
  {
   "cell_type": "markdown",
   "metadata": {},
   "source": [
    "# Classifier"
   ]
  },
  {
   "cell_type": "code",
   "execution_count": 6,
   "metadata": {},
   "outputs": [],
   "source": [
    "# Function that determines the language from perplexity\n",
    "\n",
    "def language_classifier(data):\n",
    "\n",
    "    results = []\n",
    "\n",
    "    if type(data) != str:\n",
    "        for row in data:\n",
    "            return_pt = perplexity_counter(model_laplace_pt, row)\n",
    "            return_en = perplexity_counter(model_laplace_en, row)\n",
    "\n",
    "            if return_pt < return_en:\n",
    "                results.append('Português')\n",
    "            \n",
    "            else:\n",
    "                results.append('English')\n",
    "        \n",
    "    else:\n",
    "        return_pt = perplexity_counter(model_laplace_pt, data)\n",
    "        return_en = perplexity_counter(model_laplace_en, data)\n",
    "\n",
    "        if return_pt < return_en:\n",
    "            results.append('Português')\n",
    "            \n",
    "        else:\n",
    "            results.append('English')   \n",
    "        \n",
    "        data = [data]\n",
    "    \n",
    "    df_results = pd.DataFrame(columns = ['Text', 'Predict'], data = list(zip(data, results)))\n",
    "\n",
    "    return df_results"
   ]
  },
  {
   "attachments": {},
   "cell_type": "markdown",
   "metadata": {},
   "source": [
    "# Final"
   ]
  },
  {
   "cell_type": "code",
   "execution_count": 7,
   "metadata": {},
   "outputs": [
    {
     "name": "stdout",
     "output_type": "stream",
     "text": [
      "\n",
      "\n"
     ]
    },
    {
     "data": {
      "text/html": [
       "<div>\n",
       "<style scoped>\n",
       "    .dataframe tbody tr th:only-of-type {\n",
       "        vertical-align: middle;\n",
       "    }\n",
       "\n",
       "    .dataframe tbody tr th {\n",
       "        vertical-align: top;\n",
       "    }\n",
       "\n",
       "    .dataframe thead th {\n",
       "        text-align: right;\n",
       "    }\n",
       "</style>\n",
       "<table border=\"1\" class=\"dataframe\">\n",
       "  <thead>\n",
       "    <tr style=\"text-align: right;\">\n",
       "      <th></th>\n",
       "      <th>Text</th>\n",
       "      <th>Predict</th>\n",
       "    </tr>\n",
       "  </thead>\n",
       "  <tbody>\n",
       "    <tr>\n",
       "      <th>0</th>\n",
       "      <td>aaksjhd</td>\n",
       "      <td>English</td>\n",
       "    </tr>\n",
       "  </tbody>\n",
       "</table>\n",
       "</div>"
      ],
      "text/plain": [
       "      Text  Predict\n",
       "0  aaksjhd  English"
      ]
     },
     "execution_count": 7,
     "metadata": {},
     "output_type": "execute_result"
    }
   ],
   "source": [
    "home_question = int(input('Deseja digitar quantas frases: '))\n",
    "\n",
    "index = 0\n",
    "data = []\n",
    "\n",
    "for c in range(0,home_question):\n",
    "    index += 1\n",
    "    sentence = input(f'\\nDigite a {index}º frase desejada: ')\n",
    "    data.append(sentence)\n",
    "\n",
    "print('\\n')\n",
    "language_classifier(data)"
   ]
  }
 ],
 "metadata": {
  "kernelspec": {
   "display_name": "Python 3",
   "language": "python",
   "name": "python3"
  },
  "language_info": {
   "codemirror_mode": {
    "name": "ipython",
    "version": 3
   },
   "file_extension": ".py",
   "mimetype": "text/x-python",
   "name": "python",
   "nbconvert_exporter": "python",
   "pygments_lexer": "ipython3",
   "version": "3.11.1"
  },
  "orig_nbformat": 4,
  "vscode": {
   "interpreter": {
    "hash": "c261aea317cc0286b3b3261fbba9abdec21eaa57589985bb7a274bf54d6cc0a7"
   }
  }
 },
 "nbformat": 4,
 "nbformat_minor": 2
}
